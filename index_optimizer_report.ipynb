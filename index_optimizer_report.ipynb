{
 "cells": [
  {
   "cell_type": "markdown",
   "id": "7cab39cf-7e86-4fcb-aee1-e86f8f95ad50",
   "metadata": {},
   "source": [
    "# Index Optimizer"
   ]
  },
  {
   "cell_type": "markdown",
   "id": "a0fb4511-5f8c-45e2-b327-06959ddcad6f",
   "metadata": {},
   "source": [
    "## Data"
   ]
  },
  {
   "cell_type": "markdown",
   "id": "165215c6-92a8-4f49-935e-3b2952e50f34",
   "metadata": {},
   "source": [
    "### Index selection for trading universe"
   ]
  },
  {
   "cell_type": "markdown",
   "id": "7ff4b01f-847c-4716-9e1b-da423cea573c",
   "metadata": {},
   "source": [
    "In this execise, SP 500 is selected as the benchmark index. A list of component stocks was pulled from ***https://www.slickcharts.com/sp500*** as starting point of building the trading universe. \n",
    "\n",
    "Tickers information is saved under\n",
    "```bash\n",
    "./data/tickers.csv\n",
    "```\n",
    "\n"
   ]
  },
  {
   "cell_type": "markdown",
   "id": "36b9ca2f-c81d-4dec-ad26-ceb89b3b90dc",
   "metadata": {},
   "source": [
    "### stock price data"
   ]
  },
  {
   "cell_type": "markdown",
   "id": "39d8a61d-f51a-4090-8023-bd365dfcd55e",
   "metadata": {},
   "source": [
    "Stock price data is pulled from yahoo finance with ```yfinance``` package.\n",
    "* source: yahoo finance\n",
    "* time horizon: 2020-01-01 to 2023-08-09\n",
    "* frequence: daily\n",
    "* fields: [Adj Close]"
   ]
  },
  {
   "cell_type": "code",
   "execution_count": 7,
   "id": "62c57701-5932-4cb0-b822-b0e91f80288f",
   "metadata": {},
   "outputs": [
    {
     "name": "stdout",
     "output_type": "stream",
     "text": [
      "[*********************100%%**********************]  504 of 504 completed\n"
     ]
    }
   ],
   "source": [
    "import yfinance as yf\n",
    "import pandas as pd\n",
    "\n",
    "ticker_path = './data/tickers.csv'\n",
    "tickers = pd.read_csv(ticker_path, header=None).values.ravel().tolist()\n",
    "\n",
    "start_date = '2023-01-01'\n",
    "end_date = '2023-08-09'\n",
    "raw = yf.download(tickers, period='1d', start=start_date, end=end_date)['Adj Close']"
   ]
  },
  {
   "cell_type": "code",
   "execution_count": 12,
   "id": "be335e10-eb19-4942-a780-c6de46242a65",
   "metadata": {},
   "outputs": [
    {
     "data": {
      "text/plain": [
       "Date\n",
       "2023-01-03    41.263741\n",
       "2023-01-04    41.680241\n",
       "2023-01-05    41.184402\n",
       "2023-01-06    42.771091\n",
       "2023-01-09    43.138012\n",
       "                ...    \n",
       "2023-08-02    58.980000\n",
       "2023-08-03    58.099998\n",
       "2023-08-04    57.080002\n",
       "2023-08-07    58.099998\n",
       "2023-08-08    57.389999\n",
       "Name: CARR, Length: 150, dtype: float64"
      ]
     },
     "execution_count": 12,
     "metadata": {},
     "output_type": "execute_result"
    }
   ],
   "source": [
    "raw['CARR']"
   ]
  },
  {
   "cell_type": "code",
   "execution_count": 9,
   "id": "b8075e6f-08dc-44cd-a8a8-4182f22557fd",
   "metadata": {},
   "outputs": [
    {
     "data": {
      "text/html": [
       "<div>\n",
       "<style scoped>\n",
       "    .dataframe tbody tr th:only-of-type {\n",
       "        vertical-align: middle;\n",
       "    }\n",
       "\n",
       "    .dataframe tbody tr th {\n",
       "        vertical-align: top;\n",
       "    }\n",
       "\n",
       "    .dataframe thead th {\n",
       "        text-align: right;\n",
       "    }\n",
       "</style>\n",
       "<table border=\"1\" class=\"dataframe\">\n",
       "  <thead>\n",
       "    <tr style=\"text-align: right;\">\n",
       "      <th></th>\n",
       "      <th>A</th>\n",
       "      <th>AAL</th>\n",
       "      <th>AAP</th>\n",
       "      <th>AAPL</th>\n",
       "      <th>ABBV</th>\n",
       "      <th>ABC</th>\n",
       "      <th>ABT</th>\n",
       "      <th>ACGL</th>\n",
       "      <th>ACN</th>\n",
       "      <th>ADBE</th>\n",
       "      <th>...</th>\n",
       "      <th>WYNN</th>\n",
       "      <th>XEL</th>\n",
       "      <th>XOM</th>\n",
       "      <th>XRAY</th>\n",
       "      <th>XYL</th>\n",
       "      <th>YUM</th>\n",
       "      <th>ZBH</th>\n",
       "      <th>ZBRA</th>\n",
       "      <th>ZION</th>\n",
       "      <th>ZTS</th>\n",
       "    </tr>\n",
       "    <tr>\n",
       "      <th>Date</th>\n",
       "      <th></th>\n",
       "      <th></th>\n",
       "      <th></th>\n",
       "      <th></th>\n",
       "      <th></th>\n",
       "      <th></th>\n",
       "      <th></th>\n",
       "      <th></th>\n",
       "      <th></th>\n",
       "      <th></th>\n",
       "      <th></th>\n",
       "      <th></th>\n",
       "      <th></th>\n",
       "      <th></th>\n",
       "      <th></th>\n",
       "      <th></th>\n",
       "      <th></th>\n",
       "      <th></th>\n",
       "      <th></th>\n",
       "      <th></th>\n",
       "      <th></th>\n",
       "    </tr>\n",
       "  </thead>\n",
       "  <tbody>\n",
       "    <tr>\n",
       "      <th>2023-01-03</th>\n",
       "      <td>149.510452</td>\n",
       "      <td>12.74</td>\n",
       "      <td>149.137817</td>\n",
       "      <td>124.538658</td>\n",
       "      <td>157.637115</td>\n",
       "      <td>162.890045</td>\n",
       "      <td>108.025566</td>\n",
       "      <td>62.459999</td>\n",
       "      <td>267.136719</td>\n",
       "      <td>336.920013</td>\n",
       "      <td>...</td>\n",
       "      <td>85.415924</td>\n",
       "      <td>68.939453</td>\n",
       "      <td>104.787399</td>\n",
       "      <td>32.453468</td>\n",
       "      <td>110.050858</td>\n",
       "      <td>125.791306</td>\n",
       "      <td>126.826683</td>\n",
       "      <td>260.200012</td>\n",
       "      <td>47.253483</td>\n",
       "      <td>145.870972</td>\n",
       "    </tr>\n",
       "    <tr>\n",
       "      <th>2023-01-04</th>\n",
       "      <td>151.134720</td>\n",
       "      <td>13.59</td>\n",
       "      <td>149.482269</td>\n",
       "      <td>125.823189</td>\n",
       "      <td>158.908859</td>\n",
       "      <td>161.482132</td>\n",
       "      <td>109.632431</td>\n",
       "      <td>62.770000</td>\n",
       "      <td>266.227295</td>\n",
       "      <td>341.410004</td>\n",
       "      <td>...</td>\n",
       "      <td>90.693939</td>\n",
       "      <td>69.529770</td>\n",
       "      <td>105.092384</td>\n",
       "      <td>33.535580</td>\n",
       "      <td>109.881943</td>\n",
       "      <td>127.495468</td>\n",
       "      <td>128.002487</td>\n",
       "      <td>262.989990</td>\n",
       "      <td>48.979412</td>\n",
       "      <td>147.966934</td>\n",
       "    </tr>\n",
       "    <tr>\n",
       "      <th>2023-01-05</th>\n",
       "      <td>151.573166</td>\n",
       "      <td>13.99</td>\n",
       "      <td>150.732147</td>\n",
       "      <td>124.488876</td>\n",
       "      <td>158.714691</td>\n",
       "      <td>161.690353</td>\n",
       "      <td>109.228249</td>\n",
       "      <td>62.939999</td>\n",
       "      <td>259.940826</td>\n",
       "      <td>328.440002</td>\n",
       "      <td>...</td>\n",
       "      <td>91.132935</td>\n",
       "      <td>68.122841</td>\n",
       "      <td>107.443733</td>\n",
       "      <td>32.850574</td>\n",
       "      <td>106.762039</td>\n",
       "      <td>126.524490</td>\n",
       "      <td>125.630959</td>\n",
       "      <td>260.059998</td>\n",
       "      <td>48.121323</td>\n",
       "      <td>144.480286</td>\n",
       "    </tr>\n",
       "    <tr>\n",
       "      <th>2023-01-06</th>\n",
       "      <td>147.148834</td>\n",
       "      <td>14.18</td>\n",
       "      <td>151.578506</td>\n",
       "      <td>129.069336</td>\n",
       "      <td>161.685303</td>\n",
       "      <td>164.297943</td>\n",
       "      <td>110.736549</td>\n",
       "      <td>63.900002</td>\n",
       "      <td>266.098816</td>\n",
       "      <td>332.750000</td>\n",
       "      <td>...</td>\n",
       "      <td>93.357880</td>\n",
       "      <td>70.139771</td>\n",
       "      <td>108.742371</td>\n",
       "      <td>33.188118</td>\n",
       "      <td>110.557587</td>\n",
       "      <td>129.090637</td>\n",
       "      <td>125.252296</td>\n",
       "      <td>273.420013</td>\n",
       "      <td>49.983768</td>\n",
       "      <td>146.655731</td>\n",
       "    </tr>\n",
       "    <tr>\n",
       "      <th>2023-01-09</th>\n",
       "      <td>146.949524</td>\n",
       "      <td>14.61</td>\n",
       "      <td>149.846390</td>\n",
       "      <td>129.597076</td>\n",
       "      <td>156.938141</td>\n",
       "      <td>163.564255</td>\n",
       "      <td>110.559105</td>\n",
       "      <td>62.669998</td>\n",
       "      <td>270.586334</td>\n",
       "      <td>341.980011</td>\n",
       "      <td>...</td>\n",
       "      <td>94.116158</td>\n",
       "      <td>70.818634</td>\n",
       "      <td>106.715698</td>\n",
       "      <td>32.751301</td>\n",
       "      <td>111.074257</td>\n",
       "      <td>128.565536</td>\n",
       "      <td>125.601059</td>\n",
       "      <td>279.290009</td>\n",
       "      <td>49.749744</td>\n",
       "      <td>146.079575</td>\n",
       "    </tr>\n",
       "  </tbody>\n",
       "</table>\n",
       "<p>5 rows × 504 columns</p>\n",
       "</div>"
      ],
      "text/plain": [
       "                     A    AAL         AAP        AAPL        ABBV         ABC  \\\n",
       "Date                                                                            \n",
       "2023-01-03  149.510452  12.74  149.137817  124.538658  157.637115  162.890045   \n",
       "2023-01-04  151.134720  13.59  149.482269  125.823189  158.908859  161.482132   \n",
       "2023-01-05  151.573166  13.99  150.732147  124.488876  158.714691  161.690353   \n",
       "2023-01-06  147.148834  14.18  151.578506  129.069336  161.685303  164.297943   \n",
       "2023-01-09  146.949524  14.61  149.846390  129.597076  156.938141  163.564255   \n",
       "\n",
       "                   ABT       ACGL         ACN        ADBE  ...       WYNN  \\\n",
       "Date                                                       ...              \n",
       "2023-01-03  108.025566  62.459999  267.136719  336.920013  ...  85.415924   \n",
       "2023-01-04  109.632431  62.770000  266.227295  341.410004  ...  90.693939   \n",
       "2023-01-05  109.228249  62.939999  259.940826  328.440002  ...  91.132935   \n",
       "2023-01-06  110.736549  63.900002  266.098816  332.750000  ...  93.357880   \n",
       "2023-01-09  110.559105  62.669998  270.586334  341.980011  ...  94.116158   \n",
       "\n",
       "                  XEL         XOM       XRAY         XYL         YUM  \\\n",
       "Date                                                                   \n",
       "2023-01-03  68.939453  104.787399  32.453468  110.050858  125.791306   \n",
       "2023-01-04  69.529770  105.092384  33.535580  109.881943  127.495468   \n",
       "2023-01-05  68.122841  107.443733  32.850574  106.762039  126.524490   \n",
       "2023-01-06  70.139771  108.742371  33.188118  110.557587  129.090637   \n",
       "2023-01-09  70.818634  106.715698  32.751301  111.074257  128.565536   \n",
       "\n",
       "                   ZBH        ZBRA       ZION         ZTS  \n",
       "Date                                                       \n",
       "2023-01-03  126.826683  260.200012  47.253483  145.870972  \n",
       "2023-01-04  128.002487  262.989990  48.979412  147.966934  \n",
       "2023-01-05  125.630959  260.059998  48.121323  144.480286  \n",
       "2023-01-06  125.252296  273.420013  49.983768  146.655731  \n",
       "2023-01-09  125.601059  279.290009  49.749744  146.079575  \n",
       "\n",
       "[5 rows x 504 columns]"
      ]
     },
     "execution_count": 9,
     "metadata": {},
     "output_type": "execute_result"
    }
   ],
   "source": [
    "raw.head()"
   ]
  },
  {
   "cell_type": "markdown",
   "id": "810dc278-49d8-4032-bf66-25ee1023eb31",
   "metadata": {},
   "source": [
    "Some tickers does not have valid prices data during this period due to various reasons. \n",
    "\n",
    "For example, Laboratory Corporation of America Holdings (NYSE: LH) has announced a spin-off of Fortrea Holdings Inc. listing on Nasdaq Global Select Market with a record date of June 20, 2023. Shareholders of LH will receive one (1) share of Fortrea Holdings Inc (FTRE) for each share of LH held on the record date. The shares of FTRE will be distributed to LH shareholders on the payment date of June 30, 2023. The first day of “regular way” trading is anticipated to be July 3, 2023.\n",
    "\n",
    "For the sake of index optimizer demonstration, those tickers without valid price data for the full history was removed."
   ]
  },
  {
   "cell_type": "code",
   "execution_count": 20,
   "id": "36aa7777-0949-481e-bc90-c607f1c2502d",
   "metadata": {},
   "outputs": [],
   "source": [
    "to_exclude = set(col for col in tickers if raw[col].isnull().sum() != 0)\n",
    "df_px =  raw[[ticker for ticker in tickers if ticker not in to_exclude]] \n",
    "df_px.to_csv('./data/px.csv')"
   ]
  },
  {
   "cell_type": "markdown",
   "id": "cb3e0336-fbfd-4c2f-b7d1-35e6e47c0a66",
   "metadata": {},
   "source": [
    "Zip the file to save space."
   ]
  },
  {
   "cell_type": "code",
   "execution_count": 16,
   "id": "ed6ebc35-a7ce-4cc9-bd83-a56ecb0a75d6",
   "metadata": {},
   "outputs": [
    {
     "name": "stdout",
     "output_type": "stream",
     "text": [
      "  adding: data/px.csv.new (deflated 65%)\n"
     ]
    }
   ],
   "source": [
    "!zip ./data/px.csv.zip ./data/px.csv"
   ]
  },
  {
   "cell_type": "markdown",
   "id": "df9fc7a9-7f78-4c46-946b-c71b74049fb7",
   "metadata": {},
   "source": [
    "## Build the optimizer"
   ]
  },
  {
   "cell_type": "markdown",
   "id": "d09c853c-ab06-458b-980d-dda7030a0d45",
   "metadata": {},
   "source": [
    "Portfolio optimization under Markowitz framework is a quadratic programming problem.\n",
    "\n",
    "\n",
    "Consider the following quadratic programming problem:\n"
   ]
  },
  {
   "cell_type": "markdown",
   "id": "a656fa2e-cae3-4258-ba82-f08a8c0dfac3",
   "metadata": {},
   "source": [
    "Minimize:\n",
    "\\begin{align*}\n",
    "    & \\frac{1}{2} \\mathbf{x}^T \\mathbf{Q} \\mathbf{x} + \\mathbf{c}^T \\mathbf{x}\n",
    "\\end{align*}\n",
    "\n",
    "Subject to:\n",
    "\\begin{align*}\n",
    "    & \\mathbf{A}_{eq} \\mathbf{x} = \\mathbf{b}_{eq} \\quad \\text{(Equality Constraints)} \\\\\n",
    "    & \\mathbf{Q}_{ineq} \\mathbf{x} \\leq \\mathbf{h}_{ineq} \\quad \\text{(Inequality Constraints)}\n",
    "\\end{align*}\n",
    "\n",
    "Where:\n",
    "\\begin{align*}\n",
    "    & \\mathbf{x} = [x_1, x_2, \\ldots, x_n]^T \\quad \\text{(Vector of new positions to find)} \\\\\n",
    "    & \\mathbf{Q} \\quad \\text{(Positive semi-definite quadratic coefficient matrix)} \\\\\n",
    "    & \\mathbf{c} = [c_1, c_2, \\ldots, c_n]^T \\quad \\text{(Signal vector for each stock)} \\\\\n",
    "    & \\mathbf{A}_{eq} \\quad \\text{(Matrix of equality constraint coefficients)} \\\\\n",
    "    & \\mathbf{b}_{eq} = [b_{eq_1}, b_{eq_2}, \\ldots, b_{eq_m}]^T \\quad \\text{(Vector of equality constraint constants)} \\\\\n",
    "    & \\mathbf{Q}_{ineq} \\quad \\text{(Matrix of inequality constraint coefficients)} \\\\\n",
    "    & \\mathbf{h}_{ineq} = [b_{ineq_1}, b_{ineq_2}, \\ldots, b_{ineq_p}]^T \\quad \\text{(Vector of inequality constraint constants)}\n",
    "\\end{align*}"
   ]
  },
  {
   "cell_type": "markdown",
   "id": "d473e03b-fd8f-4862-8d61-bcfd2b2a9982",
   "metadata": {},
   "source": [
    "In this exercise, we have the following assumptions for the portfolio:\n",
    "* Capital is fully invested.\n",
    "* Long only.\n",
    "* Rebalance at end of day.\n",
    "* No extra capital in flow.\n",
    "* No transaction cost.\n",
    "\n",
    "And the following requirements:\n",
    "* Each components weight should deviate from index weight less than 3%.\n",
    "* Turnover weight should be less than 15%.\n",
    "\n",
    "\n",
    "With these assumptions and requirements in mind, we augment this problem with n variable, to 3n variable with stock traded when rebalancing, namely include $x_{buy}$ and $x_{sell}$ for each stock in the optimization."
   ]
  },
  {
   "cell_type": "markdown",
   "id": "2dd16c74-ffa2-40a5-88a3-1dd7b061eeac",
   "metadata": {},
   "source": [
    "Minimize:\n",
    "\\begin{align*}\n",
    "    & \\frac{1}{2} \\mathbf{x}^T \\mathbf{Q} \\mathbf{x} + \\mathbf{c}^T \\mathbf{x}\n",
    "\\end{align*}\n",
    "\n",
    "Subject to:\n",
    "\\begin{align*}\n",
    "    & \\sum_{i=1}^{N} x_i = 1 \\\\\n",
    "    & x_i = x_{0,i} + x_i^+ - x_i^-, i \\in [1, N] \\\\\n",
    "    & \\sum_{i=1}^N x_i^+ + \\sum_{i=1}^N x_i^- \\le \\tau \\\\\n",
    "    & \\mathbf{lb} <= x_i <= \\mathbf{ub}, i \\in [1, N] \\\\\n",
    "    & 0 <= x_i^+ <=1, i \\in [1, N] \\\\\n",
    "    & 0 <= x_i^- <=1, i \\in [1, N] \\\\\n",
    "\\end{align*}\n",
    "\n",
    "Where:\n",
    "\\begin{align*}\n",
    "    & \\mathbf{lb} \\quad \\text{ is the lower bound of } x \\text{, allowing up to a 3\\% deviation from the index} \\\\\n",
    "    & \\mathbf{ub} \\quad \\text{ is the upper bound of } x \\text{, allowing up to a 3\\% deviation from the index} \\\\\n",
    "    & \\mathbf{Q} \\quad \\text{Positive semi-definite quadratic coefficient matrix} \\\\\n",
    "    & \\mathbf{c} = [c_1, c_2, \\ldots, c_n]^T \\quad \\text{Signal vector for each stock} \\\\\n",
    "    & \\mathbf{x}_i^+ \\quad \\text{notional of buy orders on rebalance} \\\\\n",
    "    & \\mathbf{x}_i^- \\quad \\text{notional of sell orders on rebalance} \\\\\n",
    "    & \\mathbf{\\tau} \\quad \\text{maximum turnover} \\\\\n",
    "\\end{align*}"
   ]
  },
  {
   "cell_type": "markdown",
   "id": "dabd3f9c-8fbf-4c12-a4a6-833616c0c666",
   "metadata": {},
   "source": [
    "There will be five constraints in total:\n",
    "* ConstraintInterface\n",
    "* FullyInvestConstraint\n",
    "* AccountingConstraint\n",
    "* TurnoverConstraint\n",
    "* IndexDeviateConstraint\n",
    "* TradeNotionalConstraint\n",
    "\n",
    "For details of the implementation, we can refer to the code. "
   ]
  },
  {
   "cell_type": "markdown",
   "id": "2a166ead-2739-4ac6-88f0-81e6ce612591",
   "metadata": {},
   "source": [
    "## Backtesting"
   ]
  },
  {
   "cell_type": "code",
   "execution_count": 1,
   "id": "a1907a9b-5457-451f-9619-7c15e781c9b3",
   "metadata": {},
   "outputs": [],
   "source": [
    "from opt.optimizer import Optimizer\n",
    "import pandas as pd\n",
    "import numpy as np\n",
    "import matplotlib.pyplot as plt"
   ]
  },
  {
   "cell_type": "code",
   "execution_count": 2,
   "id": "ca9d3641-7eb3-4751-8626-18100ace0343",
   "metadata": {},
   "outputs": [],
   "source": [
    "# loading in data\n",
    "df = pd.read_csv('/home/yifan/ws/mlp-task/index-optimizer/data/px.csv.zip', compression='zip', parse_dates=['Date']).set_index('Date')"
   ]
  },
  {
   "cell_type": "code",
   "execution_count": 3,
   "id": "d886d2bb-3daf-4bde-90cf-9dcb750341ff",
   "metadata": {},
   "outputs": [],
   "source": [
    "# calculate covariance\n",
    "# dfr is the daily simple returns\n",
    "dfr = (df.diff().shift(-1) / df).dropna()\n",
    "dfr.index = df.index[1:]\n",
    "\n",
    "# use data from 2020-01-02 to 2021-12-31 as training data to calibrate the covariance\n",
    "cov = dfr.query('Date < 20230101').cov().values"
   ]
  },
  {
   "cell_type": "code",
   "execution_count": 4,
   "id": "428465e2-4464-496a-b099-0cf33c0bec41",
   "metadata": {},
   "outputs": [],
   "source": [
    "# check cov\n",
    "assert np.isnan(cov).sum() == 0"
   ]
  },
  {
   "cell_type": "code",
   "execution_count": 5,
   "id": "00b15c85-f7a7-4682-a2b2-3a143da8e72d",
   "metadata": {},
   "outputs": [
    {
     "data": {
      "text/plain": [
       "array([[0.00054121, 0.00041327, 0.00038017, ..., 0.0004737 , 0.00025551,\n",
       "        0.00026916],\n",
       "       [0.00041327, 0.00047917, 0.00037822, ..., 0.00044884, 0.00025092,\n",
       "        0.00026   ],\n",
       "       [0.00038017, 0.00037822, 0.00060635, ..., 0.0003125 , 0.00018493,\n",
       "        0.00022649],\n",
       "       ...,\n",
       "       [0.0004737 , 0.00044884, 0.0003125 , ..., 0.00182106, 0.00073076,\n",
       "        0.00061289],\n",
       "       [0.00025551, 0.00025092, 0.00018493, ..., 0.00073076, 0.00077689,\n",
       "        0.00038263],\n",
       "       [0.00026916, 0.00026   , 0.00022649, ..., 0.00061289, 0.00038263,\n",
       "        0.00061508]])"
      ]
     },
     "execution_count": 5,
     "metadata": {},
     "output_type": "execute_result"
    }
   ],
   "source": [
    "cov"
   ]
  },
  {
   "cell_type": "markdown",
   "id": "52463b6d-9b50-4cc2-841b-21a2205315b1",
   "metadata": {},
   "source": [
    "We are going to run the backtest on dataset from 20230101 to 20230809"
   ]
  },
  {
   "cell_type": "code",
   "execution_count": 6,
   "id": "e048a540-b27c-4297-babd-e16f29d512b1",
   "metadata": {},
   "outputs": [],
   "source": [
    "tickers = df.columns.tolist()"
   ]
  },
  {
   "cell_type": "code",
   "execution_count": 7,
   "id": "80e69626-577c-4ee4-b974-02d8e8dba1bc",
   "metadata": {},
   "outputs": [
    {
     "data": {
      "text/plain": [
       "(151, 498)"
      ]
     },
     "execution_count": 7,
     "metadata": {},
     "output_type": "execute_result"
    }
   ],
   "source": [
    "df_px = df.query('Date >= 20221230')\n",
    "\n",
    "px = df_px.values\n",
    "\n",
    "px.shape"
   ]
  },
  {
   "cell_type": "markdown",
   "id": "5d40888c-d7c6-4fc6-900d-cbc0ce379b75",
   "metadata": {},
   "source": [
    "Assumption:\n",
    "* No rebalance of index during this period from 20230103 to 20230808."
   ]
  },
  {
   "cell_type": "markdown",
   "id": "d3e12606-0be7-40a4-b6db-7a5e527c41ac",
   "metadata": {},
   "source": [
    "We build our portfolio using prices on EOD of 20221230, and start to rebalance our portfolio on 20230103. The reference index will be an initailly equally weighted portfolio."
   ]
  },
  {
   "cell_type": "code",
   "execution_count": 8,
   "id": "718b4c66-80db-430a-93ca-80e04221676b",
   "metadata": {},
   "outputs": [
    {
     "data": {
      "image/png": "[encoded data removed]",
      "text/plain": [
       "<Figure size 640x480 with 1 Axes>"
      ]
     },
     "metadata": {},
     "output_type": "display_data"
    }
   ],
   "source": [
    "n = len(df_px.columns)\n",
    "idx = (np.ones(n) / n / px[0]) * px \n",
    "\n",
    "plt.plot(np.sum(idx, axis=1));"
   ]
  },
  {
   "cell_type": "code",
   "execution_count": 9,
   "id": "86a37a27-af29-4741-bbb4-90068520b80a",
   "metadata": {},
   "outputs": [],
   "source": [
    "from opt.constraints import AccountingConstraint\n",
    "from opt.constraints import FullyInvestConstraint\n",
    "from opt.constraints import TradeNotionalConstraint\n",
    "from opt.constraints import TurnoverConstraint\n",
    "from opt.constraints import IndexDeviateConstraint\n",
    "from opt.optimizer import Optimizer"
   ]
  },
  {
   "cell_type": "code",
   "execution_count": 10,
   "id": "a0207713-e319-439b-8348-e92e0c421b18",
   "metadata": {},
   "outputs": [],
   "source": [
    "# use sod, eod to hold\n",
    "\n",
    "np.random.seed(0)\n",
    "\n",
    "N = px.shape[0] - 1\n",
    "n = px.shape[1]\n",
    "\n",
    "sod = np.zeros((N, n))\n",
    "eod = np.zeros((N, n))\n",
    "pnl = np.zeros((N, n))\n",
    "ret = dfr.values[-N:, :]"
   ]
  },
  {
   "cell_type": "code",
   "execution_count": 11,
   "id": "e15fea05-e3bb-4fc3-8641-b1c72c706629",
   "metadata": {},
   "outputs": [],
   "source": [
    "turnover_limit = 0.15\n",
    "idx_dev = 0.03"
   ]
  },
  {
   "cell_type": "code",
   "execution_count": 12,
   "id": "fde22ccc-6136-4ae0-8294-e00e6c212f9f",
   "metadata": {},
   "outputs": [],
   "source": [
    "optimizer = Optimizer(tickers, cov)"
   ]
  },
  {
   "cell_type": "code",
   "execution_count": 13,
   "id": "94a72313-740b-4d6e-a8a4-3c3c13f7f503",
   "metadata": {},
   "outputs": [],
   "source": [
    "o = optimizer"
   ]
  },
  {
   "cell_type": "code",
   "execution_count": 25,
   "id": "3698b5c7-e269-4ad5-a31f-26836d74a30c",
   "metadata": {},
   "outputs": [],
   "source": [
    "signal_std = 0.01\n",
    "\n",
    "x0 = np.copy(idx[0, :])\n",
    "# assume we have crystal ball\n",
    "signal = np.random.randn(n) * signal_std\n",
    "\n",
    "\n",
    "constraints = [\n",
    "    FullyInvestConstraint(tickers),\n",
    "    AccountingConstraint(tickers, x0),\n",
    "    TradeNotionalConstraint(tickers),\n",
    "    TurnoverConstraint(tickers, turnover_limit),\n",
    "    IndexDeviateConstraint(tickers, idx[0, :], idx_dev),\n",
    "]\n",
    "\n",
    "optimizer.reset()\n",
    "\n",
    "res = optimizer.update_x0(x0).update_signal(signal).add_constraints(constraints).solve()\n",
    "\n",
    "# for i, date in enumerate(pd.date_range('20230103', '20230808')[:2]):\n",
    "#     eod_i = sod[i, :] * (1 + ret[i, :])\n",
    "\n",
    "#     # liquidate and realize any pnl\n",
    "#     pnl_i = eod_i - idx[i+1, :]\n",
    "\n",
    "    \n",
    "#     turnover_quota_left = turnover_limit - \n",
    "#     print(date)"
   ]
  }
 ],
 "metadata": {
  "kernelspec": {
   "display_name": "Python 3 (ipykernel)",
   "language": "python",
   "name": "python3"
  },
  "language_info": {
   "codemirror_mode": {
    "name": "ipython",
    "version": 3
   },
   "file_extension": ".py",
   "mimetype": "text/x-python",
   "name": "python",
   "nbconvert_exporter": "python",
   "pygments_lexer": "ipython3",
   "version": "3.10.12"
  }
 },
 "nbformat": 4,
 "nbformat_minor": 5
}
