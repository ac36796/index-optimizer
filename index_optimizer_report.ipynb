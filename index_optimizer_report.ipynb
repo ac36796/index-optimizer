{
 "cells": [
  {
   "cell_type": "markdown",
   "id": "7cab39cf-7e86-4fcb-aee1-e86f8f95ad50",
   "metadata": {},
   "source": [
    "# Index Optimizer"
   ]
  },
  {
   "cell_type": "markdown",
   "id": "165215c6-92a8-4f49-935e-3b2952e50f34",
   "metadata": {},
   "source": [
    "## Index selection"
   ]
  },
  {
   "cell_type": "markdown",
   "id": "df9fc7a9-7f78-4c46-946b-c71b74049fb7",
   "metadata": {},
   "source": [
    "## Data Loading"
   ]
  },
  {
   "cell_type": "code",
   "execution_count": 1,
   "id": "a1907a9b-5457-451f-9619-7c15e781c9b3",
   "metadata": {},
   "outputs": [],
   "source": [
    "from opt.optimizer import Optimizer"
   ]
  },
  {
   "cell_type": "code",
   "execution_count": 2,
   "id": "e1c13911-ec39-4c72-861b-7c88dc8ce76a",
   "metadata": {},
   "outputs": [
    {
     "name": "stdout",
     "output_type": "stream",
     "text": [
      "/home/yifan/ws/mlp-task/index-optimizer/doc\n"
     ]
    }
   ],
   "source": [
    "!pwd"
   ]
  },
  {
   "cell_type": "markdown",
   "id": "2a166ead-2739-4ac6-88f0-81e6ce612591",
   "metadata": {},
   "source": [
    "## Backtesting"
   ]
  }
 ],
 "metadata": {
  "kernelspec": {
   "display_name": "Python 3 (ipykernel)",
   "language": "python",
   "name": "python3"
  },
  "language_info": {
   "codemirror_mode": {
    "name": "ipython",
    "version": 3
   },
   "file_extension": ".py",
   "mimetype": "text/x-python",
   "name": "python",
   "nbconvert_exporter": "python",
   "pygments_lexer": "ipython3",
   "version": "3.10.12"
  }
 },
 "nbformat": 4,
 "nbformat_minor": 5
}
